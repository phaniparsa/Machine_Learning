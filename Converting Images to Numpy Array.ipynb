{
 "cells": [
  {
   "cell_type": "code",
   "execution_count": 45,
   "metadata": {},
   "outputs": [],
   "source": [
    "import glob\n",
    "import os, sys\n",
    "import numpy as np\n",
    "from PIL import Image"
   ]
  },
  {
   "cell_type": "code",
   "execution_count": 46,
   "metadata": {},
   "outputs": [],
   "source": [
    "def initializeTrainDataSet(folder):\n",
    "    \n",
    "    #List of Input files\n",
    "    inputFiles = glob.glob (folder + \"/*.PNG\")\n",
    "    index = 0\n",
    "    \n",
    "    #Height, Width and Channels for initializing numpy array\n",
    "    height, width, channels = np.array(Image.open(inputFiles[0])).shape\n",
    "    \n",
    "    #dataset variable is a numpy array with shape as [trainingExamples, height, width, channels]\n",
    "    dataset = np.ndarray(shape=(len(inputFiles), height, width, channels), dtype=np.float32)\n",
    "    \n",
    "    for eachInputFile in inputFiles:\n",
    "        inputImage = Image.open(eachInputFile)\n",
    "        dataset[index] = np.array(inputImage)\n",
    "        index += 1\n",
    "    return dataset"
   ]
  },
  {
   "cell_type": "code",
   "execution_count": null,
   "metadata": {},
   "outputs": [],
   "source": [
    "trainDataSet = initializeTrainDataSet(\"C:/Users/SP056963/Desktop/apparels classification data/train_LbELtWX/train\")"
   ]
  },
  {
   "cell_type": "code",
   "execution_count": null,
   "metadata": {},
   "outputs": [],
   "source": [
    "plt.imshow(trainDataSet[56000])"
   ]
  }
 ],
 "metadata": {
  "kernelspec": {
   "display_name": "Python 3",
   "language": "python",
   "name": "python3"
  },
  "language_info": {
   "codemirror_mode": {
    "name": "ipython",
    "version": 3
   },
   "file_extension": ".py",
   "mimetype": "text/x-python",
   "name": "python",
   "nbconvert_exporter": "python",
   "pygments_lexer": "ipython3",
   "version": "3.7.3"
  }
 },
 "nbformat": 4,
 "nbformat_minor": 2
}
